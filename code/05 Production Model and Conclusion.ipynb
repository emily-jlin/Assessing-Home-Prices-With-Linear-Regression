{
 "cells": [
  {
   "cell_type": "markdown",
   "metadata": {},
   "source": [
    "## Production Model"
   ]
  },
  {
   "cell_type": "code",
   "execution_count": 637,
   "metadata": {},
   "outputs": [],
   "source": [
    "model8_features = ['BsmtFin SF 1','Overall Qual',\n",
    " 'Total Bsmt SF',\n",
    " '1st Flr SF',\n",
    " 'Gr Liv Area',\n",
    " 'Mas Vnr Area',\n",
    " '2nd Flr SF',\n",
    " 'Garage Area',\n",
    " 'paved',\n",
    " 'new or con',\n",
    " 'Central Air',\n",
    " 'Electrical',\n",
    " 'Kitchen Qual',\n",
    "'Neighborhood Codes' ]"
   ]
  },
  {
   "cell_type": "code",
   "execution_count": 638,
   "metadata": {},
   "outputs": [],
   "source": [
    "x8_train, x8_test, y8_train, y8_test = train_test_split(train_data_7[model8_features],train_data_7['SalePrice'],random_state=42)"
   ]
  },
  {
   "cell_type": "code",
   "execution_count": 641,
   "metadata": {},
   "outputs": [],
   "source": [
    "m8_mlr=LinearRegression()"
   ]
  },
  {
   "cell_type": "code",
   "execution_count": 642,
   "metadata": {
    "scrolled": false
   },
   "outputs": [
    {
     "data": {
      "text/plain": [
       "LinearRegression(copy_X=True, fit_intercept=True, n_jobs=None, normalize=False)"
      ]
     },
     "execution_count": 642,
     "metadata": {},
     "output_type": "execute_result"
    }
   ],
   "source": [
    "m8_mlr.fit(x8_train, np.log(y8_train))"
   ]
  },
  {
   "cell_type": "code",
   "execution_count": 643,
   "metadata": {},
   "outputs": [],
   "source": [
    "m8_train_preds = m8_mlr.predict(x8_train)"
   ]
  },
  {
   "cell_type": "code",
   "execution_count": 688,
   "metadata": {},
   "outputs": [
    {
     "name": "stdout",
     "output_type": "stream",
     "text": [
      "The mean of the residuals is 1253.16\n",
      "Mean absolute error is 17137.33\n",
      "The sum squared error is 891560814514.71\n",
      "The mean squared error is 587325964.77\n",
      "The root mean squared error is 24234.81\n",
      "The r2 score is 0.90\n"
     ]
    }
   ],
   "source": [
    "model_metrics(y8_train, np.exp(m8_train_preds))"
   ]
  },
  {
   "cell_type": "code",
   "execution_count": 691,
   "metadata": {},
   "outputs": [],
   "source": [
    "m8_test_preds = m8_mlr.predict(x8_test)"
   ]
  },
  {
   "cell_type": "code",
   "execution_count": 692,
   "metadata": {
    "scrolled": false
   },
   "outputs": [
    {
     "name": "stdout",
     "output_type": "stream",
     "text": [
      "The mean of the residuals is 1395.24\n",
      "Mean absolute error is 16582.70\n",
      "The sum squared error is 278563269179.22\n",
      "The mean squared error is 550520294.82\n",
      "The root mean squared error is 23463.17\n",
      "The r2 score is 0.92\n"
     ]
    }
   ],
   "source": [
    "model_metrics(y8_test, np.exp(m8_test_preds))"
   ]
  },
  {
   "cell_type": "code",
   "execution_count": 648,
   "metadata": {},
   "outputs": [
    {
     "data": {
      "text/plain": [
       "LinearRegression(copy_X=True, fit_intercept=True, n_jobs=None, normalize=False)"
      ]
     },
     "execution_count": 648,
     "metadata": {},
     "output_type": "execute_result"
    }
   ],
   "source": [
    "m8_mlr.fit(train_data_7[model8_features], np.log(train_data_7['SalePrice']))"
   ]
  },
  {
   "cell_type": "code",
   "execution_count": 657,
   "metadata": {},
   "outputs": [],
   "source": [
    "m8_preds = m8_mlr.predict(train_data_7[model8_features])"
   ]
  },
  {
   "cell_type": "code",
   "execution_count": 650,
   "metadata": {
    "scrolled": true
   },
   "outputs": [
    {
     "name": "stdout",
     "output_type": "stream",
     "text": [
      "The mean of the residuals is 0.00\n",
      "Mean absolute error is 0.10\n",
      "The sum squared error is 42.49\n",
      "The mean squared error is 0.02\n",
      "The root mean squared error is 0.14\n",
      "The r2 score is 0.88\n"
     ]
    }
   ],
   "source": [
    "model_metrics(np.log(train_data_7['SalePrice']), m8_preds)"
   ]
  },
  {
   "cell_type": "code",
   "execution_count": 679,
   "metadata": {},
   "outputs": [
    {
     "data": {
      "text/plain": [
       "[('BsmtFin SF 1', 0.01241492617645168),\n",
       " ('Overall Qual', 8.752426671074032),\n",
       " ('Total Bsmt SF', 0.00821728762019358),\n",
       " ('1st Flr SF', 0.02796799717548204),\n",
       " ('Gr Liv Area', 0.002466739977857735),\n",
       " ('Mas Vnr Area', -0.0025812330096242064),\n",
       " ('2nd Flr SF', 0.023019858818051908),\n",
       " ('Garage Area', 0.014171586648448198),\n",
       " ('paved', 11.401216177488461),\n",
       " ('new or con', 7.392199381496223),\n",
       " ('Central Air', 16.663164608067383),\n",
       " ('Electrical', 2.2904328013664266),\n",
       " ('Kitchen Qual', 6.251802312331289),\n",
       " ('Neighborhood Codes', 15.153394851547187)]"
      ]
     },
     "execution_count": 679,
     "metadata": {},
     "output_type": "execute_result"
    }
   ],
   "source": [
    "list(zip(model8_features, (np.exp(m8_mlr.coef_)-1)*100))"
   ]
  },
  {
   "cell_type": "code",
   "execution_count": 757,
   "metadata": {},
   "outputs": [
    {
     "data": {
      "text/plain": [
       "27473.700138398777"
      ]
     },
     "execution_count": 757,
     "metadata": {},
     "output_type": "execute_result"
    }
   ],
   "source": [
    "np.exp(m8_mlr.intercept_)"
   ]
  },
  {
   "cell_type": "markdown",
   "metadata": {},
   "source": [
    "### Hypothesis Testing"
   ]
  },
  {
   "cell_type": "code",
   "execution_count": 753,
   "metadata": {},
   "outputs": [],
   "source": [
    "hyp_model = sm.OLS(np.log(train_data_7['SalePrice']), train_data_7[model8_features]).fit()"
   ]
  },
  {
   "cell_type": "code",
   "execution_count": 754,
   "metadata": {},
   "outputs": [
    {
     "data": {
      "text/html": [
       "<table class=\"simpletable\">\n",
       "<caption>OLS Regression Results</caption>\n",
       "<tr>\n",
       "  <th>Dep. Variable:</th>        <td>SalePrice</td>    <th>  R-squared (uncentered):</th>      <td>   0.990</td> \n",
       "</tr>\n",
       "<tr>\n",
       "  <th>Model:</th>                   <td>OLS</td>       <th>  Adj. R-squared (uncentered):</th> <td>   0.990</td> \n",
       "</tr>\n",
       "<tr>\n",
       "  <th>Method:</th>             <td>Least Squares</td>  <th>  F-statistic:       </th>          <td>1.394e+04</td>\n",
       "</tr>\n",
       "<tr>\n",
       "  <th>Date:</th>             <td>Thu, 09 Apr 2020</td> <th>  Prob (F-statistic):</th>           <td>  0.00</td>  \n",
       "</tr>\n",
       "<tr>\n",
       "  <th>Time:</th>                 <td>16:10:51</td>     <th>  Log-Likelihood:    </th>          <td> -3265.3</td> \n",
       "</tr>\n",
       "<tr>\n",
       "  <th>No. Observations:</th>      <td>  2024</td>      <th>  AIC:               </th>          <td>   6559.</td> \n",
       "</tr>\n",
       "<tr>\n",
       "  <th>Df Residuals:</th>          <td>  2010</td>      <th>  BIC:               </th>          <td>   6637.</td> \n",
       "</tr>\n",
       "<tr>\n",
       "  <th>Df Model:</th>              <td>    14</td>      <th>                     </th>              <td> </td>    \n",
       "</tr>\n",
       "<tr>\n",
       "  <th>Covariance Type:</th>      <td>nonrobust</td>    <th>                     </th>              <td> </td>    \n",
       "</tr>\n",
       "</table>\n",
       "<table class=\"simpletable\">\n",
       "<tr>\n",
       "           <td></td>             <th>coef</th>     <th>std err</th>      <th>t</th>      <th>P>|t|</th>  <th>[0.025</th>    <th>0.975]</th>  \n",
       "</tr>\n",
       "<tr>\n",
       "  <th>BsmtFin SF 1</th>       <td>   -0.0002</td> <td> 7.34e-05</td> <td>   -2.405</td> <td> 0.016</td> <td>   -0.000</td> <td>-3.25e-05</td>\n",
       "</tr>\n",
       "<tr>\n",
       "  <th>Overall Qual</th>       <td>    0.2689</td> <td>    0.034</td> <td>    7.972</td> <td> 0.000</td> <td>    0.203</td> <td>    0.335</td>\n",
       "</tr>\n",
       "<tr>\n",
       "  <th>Total Bsmt SF</th>      <td>   -0.0007</td> <td>    0.000</td> <td>   -5.780</td> <td> 0.000</td> <td>   -0.001</td> <td>   -0.000</td>\n",
       "</tr>\n",
       "<tr>\n",
       "  <th>1st Flr SF</th>         <td>    0.0016</td> <td>    0.001</td> <td>    2.890</td> <td> 0.004</td> <td>    0.001</td> <td>    0.003</td>\n",
       "</tr>\n",
       "<tr>\n",
       "  <th>Gr Liv Area</th>        <td>    0.0002</td> <td>    0.001</td> <td>    0.453</td> <td> 0.651</td> <td>   -0.001</td> <td>    0.001</td>\n",
       "</tr>\n",
       "<tr>\n",
       "  <th>Mas Vnr Area</th>       <td>   -0.0014</td> <td>    0.000</td> <td>   -7.972</td> <td> 0.000</td> <td>   -0.002</td> <td>   -0.001</td>\n",
       "</tr>\n",
       "<tr>\n",
       "  <th>2nd Flr SF</th>         <td>    0.0002</td> <td>    0.001</td> <td>    0.321</td> <td> 0.748</td> <td>   -0.001</td> <td>    0.001</td>\n",
       "</tr>\n",
       "<tr>\n",
       "  <th>Garage Area</th>        <td>   -0.0010</td> <td>    0.000</td> <td>   -5.795</td> <td> 0.000</td> <td>   -0.001</td> <td>   -0.001</td>\n",
       "</tr>\n",
       "<tr>\n",
       "  <th>paved</th>              <td>    0.6702</td> <td>    0.104</td> <td>    6.436</td> <td> 0.000</td> <td>    0.466</td> <td>    0.874</td>\n",
       "</tr>\n",
       "<tr>\n",
       "  <th>new or con</th>         <td>   -0.6283</td> <td>    0.111</td> <td>   -5.650</td> <td> 0.000</td> <td>   -0.846</td> <td>   -0.410</td>\n",
       "</tr>\n",
       "<tr>\n",
       "  <th>Central Air</th>        <td>    0.3631</td> <td>    0.124</td> <td>    2.929</td> <td> 0.003</td> <td>    0.120</td> <td>    0.606</td>\n",
       "</tr>\n",
       "<tr>\n",
       "  <th>Electrical</th>         <td>    2.3458</td> <td>    0.056</td> <td>   42.115</td> <td> 0.000</td> <td>    2.237</td> <td>    2.455</td>\n",
       "</tr>\n",
       "<tr>\n",
       "  <th>Kitchen Qual</th>       <td>    0.2962</td> <td>    0.059</td> <td>    5.021</td> <td> 0.000</td> <td>    0.181</td> <td>    0.412</td>\n",
       "</tr>\n",
       "<tr>\n",
       "  <th>Neighborhood Codes</th> <td>    0.7397</td> <td>    0.117</td> <td>    6.297</td> <td> 0.000</td> <td>    0.509</td> <td>    0.970</td>\n",
       "</tr>\n",
       "</table>\n",
       "<table class=\"simpletable\">\n",
       "<tr>\n",
       "  <th>Omnibus:</th>       <td>1111.623</td> <th>  Durbin-Watson:     </th> <td>   1.893</td>\n",
       "</tr>\n",
       "<tr>\n",
       "  <th>Prob(Omnibus):</th>  <td> 0.000</td>  <th>  Jarque-Bera (JB):  </th> <td>9915.613</td>\n",
       "</tr>\n",
       "<tr>\n",
       "  <th>Skew:</th>           <td> 2.454</td>  <th>  Prob(JB):          </th> <td>    0.00</td>\n",
       "</tr>\n",
       "<tr>\n",
       "  <th>Kurtosis:</th>       <td>12.668</td>  <th>  Cond. No.          </th> <td>1.16e+04</td>\n",
       "</tr>\n",
       "</table><br/><br/>Warnings:<br/>[1] Standard Errors assume that the covariance matrix of the errors is correctly specified.<br/>[2] The condition number is large, 1.16e+04. This might indicate that there are<br/>strong multicollinearity or other numerical problems."
      ],
      "text/plain": [
       "<class 'statsmodels.iolib.summary.Summary'>\n",
       "\"\"\"\n",
       "                                 OLS Regression Results                                \n",
       "=======================================================================================\n",
       "Dep. Variable:              SalePrice   R-squared (uncentered):                   0.990\n",
       "Model:                            OLS   Adj. R-squared (uncentered):              0.990\n",
       "Method:                 Least Squares   F-statistic:                          1.394e+04\n",
       "Date:                Thu, 09 Apr 2020   Prob (F-statistic):                        0.00\n",
       "Time:                        16:10:51   Log-Likelihood:                         -3265.3\n",
       "No. Observations:                2024   AIC:                                      6559.\n",
       "Df Residuals:                    2010   BIC:                                      6637.\n",
       "Df Model:                          14                                                  \n",
       "Covariance Type:            nonrobust                                                  \n",
       "======================================================================================\n",
       "                         coef    std err          t      P>|t|      [0.025      0.975]\n",
       "--------------------------------------------------------------------------------------\n",
       "BsmtFin SF 1          -0.0002   7.34e-05     -2.405      0.016      -0.000   -3.25e-05\n",
       "Overall Qual           0.2689      0.034      7.972      0.000       0.203       0.335\n",
       "Total Bsmt SF         -0.0007      0.000     -5.780      0.000      -0.001      -0.000\n",
       "1st Flr SF             0.0016      0.001      2.890      0.004       0.001       0.003\n",
       "Gr Liv Area            0.0002      0.001      0.453      0.651      -0.001       0.001\n",
       "Mas Vnr Area          -0.0014      0.000     -7.972      0.000      -0.002      -0.001\n",
       "2nd Flr SF             0.0002      0.001      0.321      0.748      -0.001       0.001\n",
       "Garage Area           -0.0010      0.000     -5.795      0.000      -0.001      -0.001\n",
       "paved                  0.6702      0.104      6.436      0.000       0.466       0.874\n",
       "new or con            -0.6283      0.111     -5.650      0.000      -0.846      -0.410\n",
       "Central Air            0.3631      0.124      2.929      0.003       0.120       0.606\n",
       "Electrical             2.3458      0.056     42.115      0.000       2.237       2.455\n",
       "Kitchen Qual           0.2962      0.059      5.021      0.000       0.181       0.412\n",
       "Neighborhood Codes     0.7397      0.117      6.297      0.000       0.509       0.970\n",
       "==============================================================================\n",
       "Omnibus:                     1111.623   Durbin-Watson:                   1.893\n",
       "Prob(Omnibus):                  0.000   Jarque-Bera (JB):             9915.613\n",
       "Skew:                           2.454   Prob(JB):                         0.00\n",
       "Kurtosis:                      12.668   Cond. No.                     1.16e+04\n",
       "==============================================================================\n",
       "\n",
       "Warnings:\n",
       "[1] Standard Errors assume that the covariance matrix of the errors is correctly specified.\n",
       "[2] The condition number is large, 1.16e+04. This might indicate that there are\n",
       "strong multicollinearity or other numerical problems.\n",
       "\"\"\""
      ]
     },
     "execution_count": 754,
     "metadata": {},
     "output_type": "execute_result"
    }
   ],
   "source": [
    "hyp_model.summary()"
   ]
  },
  {
   "cell_type": "markdown",
   "metadata": {},
   "source": [
    "With 5% significance, it is conclusive to say that general living area and second floor square footage have a linear relationship to the log of sale price. "
   ]
  },
  {
   "cell_type": "markdown",
   "metadata": {},
   "source": [
    "## Conclusion and Recommendation"
   ]
  },
  {
   "cell_type": "markdown",
   "metadata": {},
   "source": [
    "|Predictors|% Change in Sale Price if Predictor is Increased by 1 Unit|\n",
    "|-|-|\n",
    "|Central Air|16.66%|\n",
    "|Neighborhood Codes|15.15%|\n",
    "|Paved|11.4%|\n",
    "|Overall Quality|8.75%|\n",
    "|Sale Type (New or Con)|7.39%|\n",
    "|Kitchen Quality|6.25%|\n",
    "|Electrical|2.29%|\n",
    "|1st Floor Square Foot|0.028%|\n",
    "|2nd Floor SF|0.023%|\n",
    "|Garage Area|0.014%|\n",
    "|Type 1 finished square feet |0.012% |\n",
    "|Total Basement Square Foot|0.008%|\n",
    "|Mason Veneer Area|-0.0026%|\n",
    "|General Living Area|0.0025%|\n",
    "\n",
    "\n"
   ]
  },
  {
   "cell_type": "markdown",
   "metadata": {},
   "source": [
    "The above chart highlights the 14 predictors that are used in this model to assess the housing prices in Ames. While it is easy to conclude that the predictor with the highest percentage change in sale price is the strongest influencer, it is important to quantify each predictor before making that conclusion. For example, Central Air is a categorical data that contains two data points: 0 or 1. 0 for houses without central air and 1 for houses with central air. With values that are 0 or 1, it is more likely that the percentage change is inflated that it actually is in real life. Another way to quantify the predictors is to consider the real life application. For example, general living area has the lowest percentage, but the predictors also have the highest range. Let's take a house that is selling for 500,000 dollars, if the general living area's square footage is increased by 1 unit, the sale price is predicted to increase by 500,000 * 1.0025 = 501,250 dollars, with all else hold equal. A typical bedroom size is about 132 square foot so general living area actually has a greater influence than central air. "
   ]
  },
  {
   "cell_type": "markdown",
   "metadata": {},
   "source": [
    "Two of the predictors here are especially susceptible to data entry errors or bias during rating: Kitchen Quality and Overall Quality. It is paramount for Ames Assessor's Office to ensure that all their agents understand the guidelines on how to rate each house and standardize the rating rubric to minimize bias. In addition, the office should consider cross validating each agent's scores by sending two or three agents to evaluate the house to prevent bias. The Ames Assessor's Office's evaluation is crucial to the wealth of the city and residents. Taking these precautionary steps to validate the data will ensure that the model perform optimally to assess housing prices as accurate as possible. "
   ]
  },
  {
   "cell_type": "markdown",
   "metadata": {},
   "source": [
    "### Kaggle Submission"
   ]
  },
  {
   "cell_type": "code",
   "execution_count": 658,
   "metadata": {},
   "outputs": [],
   "source": [
    "to_submit4 = pd.DataFrame()\n",
    "to_submit4['Id'] = test7['Id']\n",
    "m8_test_preds = m8_mlr.predict(test7[model8_features])\n"
   ]
  },
  {
   "cell_type": "code",
   "execution_count": 659,
   "metadata": {},
   "outputs": [],
   "source": [
    "to_submit4['SalePrice'] = np.exp(m8_test_preds)"
   ]
  },
  {
   "cell_type": "code",
   "execution_count": 660,
   "metadata": {
    "scrolled": true
   },
   "outputs": [
    {
     "data": {
      "text/html": [
       "<div>\n",
       "<style scoped>\n",
       "    .dataframe tbody tr th:only-of-type {\n",
       "        vertical-align: middle;\n",
       "    }\n",
       "\n",
       "    .dataframe tbody tr th {\n",
       "        vertical-align: top;\n",
       "    }\n",
       "\n",
       "    .dataframe thead th {\n",
       "        text-align: right;\n",
       "    }\n",
       "</style>\n",
       "<table border=\"1\" class=\"dataframe\">\n",
       "  <thead>\n",
       "    <tr style=\"text-align: right;\">\n",
       "      <th></th>\n",
       "      <th>Id</th>\n",
       "      <th>SalePrice</th>\n",
       "    </tr>\n",
       "  </thead>\n",
       "  <tbody>\n",
       "    <tr>\n",
       "      <th>0</th>\n",
       "      <td>2658</td>\n",
       "      <td>122580.456503</td>\n",
       "    </tr>\n",
       "    <tr>\n",
       "      <th>1</th>\n",
       "      <td>2718</td>\n",
       "      <td>175483.219988</td>\n",
       "    </tr>\n",
       "    <tr>\n",
       "      <th>2</th>\n",
       "      <td>2414</td>\n",
       "      <td>198826.688008</td>\n",
       "    </tr>\n",
       "    <tr>\n",
       "      <th>3</th>\n",
       "      <td>1989</td>\n",
       "      <td>105563.619290</td>\n",
       "    </tr>\n",
       "    <tr>\n",
       "      <th>4</th>\n",
       "      <td>625</td>\n",
       "      <td>162368.676726</td>\n",
       "    </tr>\n",
       "    <tr>\n",
       "      <th>...</th>\n",
       "      <td>...</td>\n",
       "      <td>...</td>\n",
       "    </tr>\n",
       "    <tr>\n",
       "      <th>873</th>\n",
       "      <td>1662</td>\n",
       "      <td>197425.523194</td>\n",
       "    </tr>\n",
       "    <tr>\n",
       "      <th>874</th>\n",
       "      <td>1234</td>\n",
       "      <td>190654.754146</td>\n",
       "    </tr>\n",
       "    <tr>\n",
       "      <th>875</th>\n",
       "      <td>1373</td>\n",
       "      <td>127556.556682</td>\n",
       "    </tr>\n",
       "    <tr>\n",
       "      <th>876</th>\n",
       "      <td>1672</td>\n",
       "      <td>112894.920624</td>\n",
       "    </tr>\n",
       "    <tr>\n",
       "      <th>877</th>\n",
       "      <td>1939</td>\n",
       "      <td>125988.384451</td>\n",
       "    </tr>\n",
       "  </tbody>\n",
       "</table>\n",
       "<p>878 rows × 2 columns</p>\n",
       "</div>"
      ],
      "text/plain": [
       "       Id      SalePrice\n",
       "0    2658  122580.456503\n",
       "1    2718  175483.219988\n",
       "2    2414  198826.688008\n",
       "3    1989  105563.619290\n",
       "4     625  162368.676726\n",
       "..    ...            ...\n",
       "873  1662  197425.523194\n",
       "874  1234  190654.754146\n",
       "875  1373  127556.556682\n",
       "876  1672  112894.920624\n",
       "877  1939  125988.384451\n",
       "\n",
       "[878 rows x 2 columns]"
      ]
     },
     "execution_count": 660,
     "metadata": {},
     "output_type": "execute_result"
    }
   ],
   "source": [
    "to_submit4"
   ]
  },
  {
   "cell_type": "code",
   "execution_count": 662,
   "metadata": {},
   "outputs": [],
   "source": [
    "to_submit4.to_csv('./datasets/to submit4.csv', index=False)"
   ]
  },
  {
   "cell_type": "code",
   "execution_count": null,
   "metadata": {},
   "outputs": [],
   "source": []
  }
 ],
 "metadata": {
  "kernelspec": {
   "display_name": "Python 3",
   "language": "python",
   "name": "python3"
  },
  "language_info": {
   "codemirror_mode": {
    "name": "ipython",
    "version": 3
   },
   "file_extension": ".py",
   "mimetype": "text/x-python",
   "name": "python",
   "nbconvert_exporter": "python",
   "pygments_lexer": "ipython3",
   "version": "3.7.6"
  }
 },
 "nbformat": 4,
 "nbformat_minor": 4
}
